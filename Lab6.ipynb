{
 "cells": [
  {
   "cell_type": "markdown",
   "metadata": {},
   "source": [
    "### Лабораторная работа №6. Применение сверточных нейронных сетей (многоклассовая классификация)\n",
    "\n",
    "Данные: Набор данных для распознавания языка жестов, который состоит из изображений размерности 28x28 в оттенках серого (значение пикселя от 0 до 255). Каждое из изображений обозначает букву латинского алфавита, обозначенную с помощью жеста, как показано на рисунке ниже (рисунок цветной, а изображения в наборе данных в оттенках серого). \n",
    "\n",
    "Обучающая выборка включает в себя 27,455 изображений, а контрольная выборка содержит 7172 изображения. Данные в виде csv-файлов можно скачать на сайте Kaggle -> https://www.kaggle.com/datamunge/sign-language-mnist\n",
    "\n",
    "Задание 1.\n",
    "Загрузите данные. Разделите исходный набор данных на обучающую и валидационную выборки.\n",
    "\n",
    "Задание 2.\n",
    "Реализуйте глубокую нейронную сеть со сверточными слоями. Какое качество классификации получено? Какая архитектура сети была использована?\n",
    "\n",
    "Задание 3.\n",
    "Примените дополнение данных (data augmentation). Как это повлияло на качество классификатора? \n",
    "\n",
    "Задание 4.\n",
    "Поэкспериментируйте с готовыми нейронными сетями (например, AlexNet, VGG16, Inception и т.п.), применив передаточное обучение. Как это повлияло на качество классификатора? Можно ли было обойтись без него?\n",
    "Какой максимальный результат удалось получить на контрольной выборке?\n",
    "\n",
    "Результат выполнения заданий опишите в отчете."
   ]
  },
  {
   "cell_type": "code",
   "execution_count": 1,
   "metadata": {},
   "outputs": [
    {
     "name": "stdout",
     "output_type": "stream",
     "text": [
      "Archive:  sign-language-mnist.zip\n",
      "  inflating: sign-language-mnist/amer_sign2.png  \n",
      "  inflating: sign-language-mnist/amer_sign3.png  \n",
      "  inflating: sign-language-mnist/american_sign_language.PNG  \n",
      "  inflating: sign-language-mnist/sign_mnist_test.csv  \n",
      "  inflating: sign-language-mnist/sign_mnist_test/sign_mnist_test.csv  \n",
      "  inflating: sign-language-mnist/sign_mnist_train.csv  \n",
      "  inflating: sign-language-mnist/sign_mnist_train/sign_mnist_train.csv  \n"
     ]
    }
   ],
   "source": [
    "!mkdir -p sign-language-mnist\n",
    "!unzip sign-language-mnist.zip -d sign-language-mnist"
   ]
  },
  {
   "cell_type": "code",
   "execution_count": 1,
   "metadata": {},
   "outputs": [],
   "source": [
    "import pandas as pd\n",
    "import numpy as np\n",
    "import matplotlib.pyplot as plt\n",
    "%matplotlib inline"
   ]
  },
  {
   "cell_type": "code",
   "execution_count": 2,
   "metadata": {},
   "outputs": [
    {
     "data": {
      "text/plain": [
       "((27455, 785), (7172, 785))"
      ]
     },
     "execution_count": 2,
     "metadata": {},
     "output_type": "execute_result"
    }
   ],
   "source": [
    "train_data = pd.read_csv('sign-language-mnist/sign_mnist_train.csv')\n",
    "test_data = pd.read_csv('sign-language-mnist/sign_mnist_test.csv')\n",
    "\n",
    "train_data.shape, test_data.shape"
   ]
  },
  {
   "cell_type": "code",
   "execution_count": 3,
   "metadata": {},
   "outputs": [
    {
     "data": {
      "text/plain": [
       "array([ 3,  6,  2, 13, 16,  8, 22, 18, 10, 20, 17, 19, 21, 23, 24,  1, 12,\n",
       "       11, 15,  4,  0,  5,  7, 14])"
      ]
     },
     "execution_count": 3,
     "metadata": {},
     "output_type": "execute_result"
    }
   ],
   "source": [
    "train_data.label.unique()"
   ]
  },
  {
   "cell_type": "markdown",
   "metadata": {},
   "source": [
    "Почему-то отсутствует 9-ый класс, переназначим 24 на 9"
   ]
  },
  {
   "cell_type": "code",
   "execution_count": 4,
   "metadata": {},
   "outputs": [],
   "source": [
    "train_labels = train_data['label'].values\n",
    "test_labels = test_data['label'].values\n",
    "\n",
    "train_labels = [9 if label == 24 else label for label in train_labels]\n",
    "test_labels = [9 if label == 24 else label for label in test_labels]"
   ]
  },
  {
   "cell_type": "code",
   "execution_count": 5,
   "metadata": {},
   "outputs": [],
   "source": [
    "from sklearn.model_selection import train_test_split\n",
    "\n",
    "train_data.drop(columns='label', inplace=True)\n",
    "test_data.drop(columns='label', inplace=True)\n",
    "\n",
    "train_images, val_images, train_labels, val_labels = train_test_split(\n",
    "    train_data.values,\n",
    "    train_labels,\n",
    "    test_size=0.2,\n",
    "    stratify=train_labels\n",
    ")\n",
    "\n",
    "train_images = train_images.reshape(-1, 28, 28, 1)\n",
    "val_images = val_images.reshape(-1, 28, 28, 1)\n",
    "\n",
    "test_images = test_data.values\n",
    "test_images = test_images.reshape(-1, 28, 28, 1)"
   ]
  },
  {
   "cell_type": "code",
   "execution_count": 6,
   "metadata": {},
   "outputs": [],
   "source": [
    "from tensorflow.keras.models import Sequential\n",
    "from tensorflow.keras.layers import Conv2D, MaxPooling2D, Dense, Activation, BatchNormalization, Dropout, Flatten\n",
    "\n",
    "def build_model(num_classes):\n",
    "    model = Sequential()\n",
    "\n",
    "    model.add(Conv2D(32, (3, 3), padding='same', input_shape=(28, 28, 1)))\n",
    "    model.add(BatchNormalization())\n",
    "    model.add(MaxPooling2D(pool_size=(2, 2)))\n",
    "    model.add(Dropout(0.25))\n",
    "\n",
    "    model.add(Conv2D(64, (3, 3), activation='relu'))\n",
    "    model.add(BatchNormalization())\n",
    "    model.add(MaxPooling2D(pool_size=(2, 2)))\n",
    "    model.add(Dropout(0.25))\n",
    "\n",
    "    model.add(Conv2D(128, (3, 3), activation='relu'))\n",
    "    model.add(BatchNormalization())\n",
    "    model.add(MaxPooling2D(pool_size=(2, 2)))\n",
    "    model.add(Dropout(0.25))\n",
    "\n",
    "    model.add(Flatten())\n",
    "    model.add(Dense(256, activation='relu'))\n",
    "    model.add(BatchNormalization())\n",
    "    model.add(Dropout(0.5))\n",
    "    model.add(Dense(num_classes, activation='softmax'))\n",
    "    \n",
    "    return model"
   ]
  },
  {
   "cell_type": "code",
   "execution_count": 7,
   "metadata": {},
   "outputs": [
    {
     "name": "stdout",
     "output_type": "stream",
     "text": [
      "Model: \"sequential\"\n",
      "_________________________________________________________________\n",
      "Layer (type)                 Output Shape              Param #   \n",
      "=================================================================\n",
      "conv2d (Conv2D)              (None, 28, 28, 32)        320       \n",
      "_________________________________________________________________\n",
      "batch_normalization (BatchNo (None, 28, 28, 32)        128       \n",
      "_________________________________________________________________\n",
      "max_pooling2d (MaxPooling2D) (None, 14, 14, 32)        0         \n",
      "_________________________________________________________________\n",
      "dropout (Dropout)            (None, 14, 14, 32)        0         \n",
      "_________________________________________________________________\n",
      "conv2d_1 (Conv2D)            (None, 12, 12, 64)        18496     \n",
      "_________________________________________________________________\n",
      "batch_normalization_1 (Batch (None, 12, 12, 64)        256       \n",
      "_________________________________________________________________\n",
      "max_pooling2d_1 (MaxPooling2 (None, 6, 6, 64)          0         \n",
      "_________________________________________________________________\n",
      "dropout_1 (Dropout)          (None, 6, 6, 64)          0         \n",
      "_________________________________________________________________\n",
      "conv2d_2 (Conv2D)            (None, 4, 4, 128)         73856     \n",
      "_________________________________________________________________\n",
      "batch_normalization_2 (Batch (None, 4, 4, 128)         512       \n",
      "_________________________________________________________________\n",
      "max_pooling2d_2 (MaxPooling2 (None, 2, 2, 128)         0         \n",
      "_________________________________________________________________\n",
      "dropout_2 (Dropout)          (None, 2, 2, 128)         0         \n",
      "_________________________________________________________________\n",
      "flatten (Flatten)            (None, 512)               0         \n",
      "_________________________________________________________________\n",
      "dense (Dense)                (None, 256)               131328    \n",
      "_________________________________________________________________\n",
      "batch_normalization_3 (Batch (None, 256)               1024      \n",
      "_________________________________________________________________\n",
      "dropout_3 (Dropout)          (None, 256)               0         \n",
      "_________________________________________________________________\n",
      "dense_1 (Dense)              (None, 24)                6168      \n",
      "=================================================================\n",
      "Total params: 232,088\n",
      "Trainable params: 231,128\n",
      "Non-trainable params: 960\n",
      "_________________________________________________________________\n"
     ]
    }
   ],
   "source": [
    "model = build_model(num_classes=len(np.unique(train_labels)))\n",
    "model.compile(loss='categorical_crossentropy', optimizer='adam', metrics=['accuracy'])    \n",
    "model.summary()"
   ]
  },
  {
   "cell_type": "code",
   "execution_count": 8,
   "metadata": {},
   "outputs": [],
   "source": [
    "from tensorflow.keras.utils import to_categorical\n",
    "from tensorflow.keras.preprocessing.image import ImageDataGenerator\n",
    "\n",
    "batch_size = 64\n",
    "train_datagen = ImageDataGenerator(rescale=1/255.)\n",
    "val_datagen = ImageDataGenerator(rescale=1./255.)\n",
    "test_datagen = ImageDataGenerator(rescale=1./255.)\n",
    "\n",
    "train_generator=train_datagen.flow(\n",
    "    train_images,\n",
    "    to_categorical(train_labels),\n",
    "    batch_size=batch_size,\n",
    "    seed=42,\n",
    "    shuffle=True,\n",
    ")\n",
    "\n",
    "val_generator=val_datagen.flow(\n",
    "    val_images,\n",
    "    to_categorical(val_labels),\n",
    "    batch_size=batch_size,\n",
    "    shuffle=True,\n",
    ")\n",
    "\n",
    "test_generator=test_datagen.flow(\n",
    "    test_images,\n",
    "    to_categorical(test_labels),\n",
    "    batch_size=batch_size,\n",
    "    shuffle=False\n",
    ")"
   ]
  },
  {
   "cell_type": "code",
   "execution_count": 9,
   "metadata": {},
   "outputs": [
    {
     "name": "stdout",
     "output_type": "stream",
     "text": [
      "WARNING:tensorflow:sample_weight modes were coerced from\n",
      "  ...\n",
      "    to  \n",
      "  ['...']\n",
      "WARNING:tensorflow:sample_weight modes were coerced from\n",
      "  ...\n",
      "    to  \n",
      "  ['...']\n",
      "Train for 344 steps, validate for 86 steps\n",
      "Epoch 1/50\n",
      "344/344 [==============================] - 5s 13ms/step - loss: 1.3075 - accuracy: 0.6150 - val_loss: 2.5484 - val_accuracy: 0.2144\n",
      "Epoch 2/50\n",
      "344/344 [==============================] - 2s 7ms/step - loss: 0.2676 - accuracy: 0.9140 - val_loss: 0.0415 - val_accuracy: 0.9987\n",
      "Epoch 3/50\n",
      "344/344 [==============================] - 3s 7ms/step - loss: 0.1136 - accuracy: 0.9669 - val_loss: 0.0210 - val_accuracy: 0.9978\n",
      "Epoch 4/50\n",
      "344/344 [==============================] - 2s 7ms/step - loss: 0.0577 - accuracy: 0.9842 - val_loss: 0.0149 - val_accuracy: 0.9975\n",
      "Epoch 5/50\n",
      "344/344 [==============================] - 2s 6ms/step - loss: 0.0381 - accuracy: 0.9903 - val_loss: 0.0019 - val_accuracy: 1.0000\n",
      "Epoch 6/50\n",
      "344/344 [==============================] - 2s 7ms/step - loss: 0.0285 - accuracy: 0.9924 - val_loss: 9.7667e-04 - val_accuracy: 1.0000\n",
      "Epoch 7/50\n",
      "344/344 [==============================] - 2s 7ms/step - loss: 0.0193 - accuracy: 0.9951 - val_loss: 0.0054 - val_accuracy: 0.9993\n",
      "Epoch 8/50\n",
      "344/344 [==============================] - 2s 7ms/step - loss: 0.0197 - accuracy: 0.9943 - val_loss: 9.0394e-04 - val_accuracy: 1.0000\n",
      "Epoch 9/50\n",
      "344/344 [==============================] - 2s 7ms/step - loss: 0.0154 - accuracy: 0.9962 - val_loss: 2.7676e-04 - val_accuracy: 1.0000\n",
      "Epoch 10/50\n",
      "344/344 [==============================] - 2s 7ms/step - loss: 0.0142 - accuracy: 0.9961 - val_loss: 6.3907e-04 - val_accuracy: 1.0000\n",
      "Epoch 11/50\n",
      "344/344 [==============================] - 2s 7ms/step - loss: 0.0168 - accuracy: 0.9949 - val_loss: 0.0211 - val_accuracy: 0.9951\n",
      "Epoch 12/50\n",
      "344/344 [==============================] - 2s 7ms/step - loss: 0.0138 - accuracy: 0.9953 - val_loss: 6.0824e-04 - val_accuracy: 1.0000\n",
      "Epoch 13/50\n",
      "344/344 [==============================] - 2s 7ms/step - loss: 0.0146 - accuracy: 0.9956 - val_loss: 0.0033 - val_accuracy: 0.9991\n",
      "Epoch 14/50\n",
      "344/344 [==============================] - 2s 7ms/step - loss: 0.0144 - accuracy: 0.9956 - val_loss: 0.0236 - val_accuracy: 0.9933\n",
      "WARNING:tensorflow:sample_weight modes were coerced from\n",
      "  ...\n",
      "    to  \n",
      "  ['...']\n",
      "113/113 [==============================] - 0s 3ms/step - loss: 0.1401 - accuracy: 0.9622\n"
     ]
    },
    {
     "data": {
      "text/plain": [
       "[0.14012540002050602, 0.9622142]"
      ]
     },
     "execution_count": 9,
     "metadata": {},
     "output_type": "execute_result"
    }
   ],
   "source": [
    "from tensorflow.keras.callbacks import EarlyStopping\n",
    "\n",
    "history = model.fit(\n",
    "    train_generator, \n",
    "    epochs=50,\n",
    "    validation_data=val_generator,\n",
    "    workers=4,\n",
    "    callbacks=[EarlyStopping(patience=5)]\n",
    ")\n",
    "\n",
    "model.evaluate(test_generator)"
   ]
  },
  {
   "cell_type": "code",
   "execution_count": 10,
   "metadata": {},
   "outputs": [
    {
     "data": {
      "image/png": "[encoded data removed]",
      "text/plain": [
       "<Figure size 864x864 with 2 Axes>"
      ]
     },
     "metadata": {
      "needs_background": "light"
     },
     "output_type": "display_data"
    }
   ],
   "source": [
    "fig, (ax1, ax2) = plt.subplots(2, 1, figsize=(12, 12))\n",
    "ax1.plot(history.history['loss'], color='b', label=\"Training loss\")\n",
    "ax1.plot(history.history['val_loss'], color='r', label=\"validation loss\")\n",
    "\n",
    "ax2.plot(history.history['accuracy'], color='b', label=\"Training accuracy\")\n",
    "ax2.plot(history.history['val_accuracy'], color='r',label=\"Validation accuracy\")\n",
    "\n",
    "plt.legend()\n",
    "plt.show()"
   ]
  },
  {
   "cell_type": "markdown",
   "metadata": {},
   "source": [
    "### Добавим аугментации"
   ]
  },
  {
   "cell_type": "code",
   "execution_count": 11,
   "metadata": {},
   "outputs": [],
   "source": [
    "train_datagen = ImageDataGenerator(\n",
    "    rescale=1/255.,\n",
    "    rotation_range=0.05,\n",
    "    width_shift_range=0.05,\n",
    "    height_shift_range=0.05,\n",
    "    zoom_range=0.03,\n",
    "    horizontal_flip=True\n",
    ")\n",
    "\n",
    "val_datagen=ImageDataGenerator(rescale=1./255.)\n",
    "test_datagen=ImageDataGenerator(rescale=1./255.)\n",
    "\n",
    "train_generator=train_datagen.flow(\n",
    "    train_images,\n",
    "    to_categorical(train_labels),\n",
    "    batch_size=32,\n",
    "    seed=42,\n",
    "    shuffle=True\n",
    ")\n",
    "\n",
    "val_generator=val_datagen.flow(\n",
    "    val_images,\n",
    "    to_categorical(val_labels),\n",
    "    batch_size=32,\n",
    "    shuffle=True\n",
    ")\n",
    "test_generator=test_datagen.flow(\n",
    "    test_images,\n",
    "    to_categorical(test_labels),\n",
    "    batch_size=32,\n",
    "    shuffle=False\n",
    ")"
   ]
  },
  {
   "cell_type": "code",
   "execution_count": 12,
   "metadata": {},
   "outputs": [
    {
     "name": "stdout",
     "output_type": "stream",
     "text": [
      "WARNING:tensorflow:sample_weight modes were coerced from\n",
      "  ...\n",
      "    to  \n",
      "  ['...']\n",
      "WARNING:tensorflow:sample_weight modes were coerced from\n",
      "  ...\n",
      "    to  \n",
      "  ['...']\n",
      "Train for 687 steps, validate for 172 steps\n",
      "Epoch 1/50\n",
      "687/687 [==============================] - 12s 18ms/step - loss: 0.6501 - accuracy: 0.8087 - val_loss: 0.0180 - val_accuracy: 0.9969\n",
      "Epoch 2/50\n",
      "687/687 [==============================] - 13s 19ms/step - loss: 0.2413 - accuracy: 0.9177 - val_loss: 0.0155 - val_accuracy: 0.9965\n",
      "Epoch 3/50\n",
      "687/687 [==============================] - 12s 18ms/step - loss: 0.1723 - accuracy: 0.9435 - val_loss: 0.0046 - val_accuracy: 0.9996\n",
      "Epoch 4/50\n",
      "687/687 [==============================] - 13s 19ms/step - loss: 0.1377 - accuracy: 0.9542 - val_loss: 0.0228 - val_accuracy: 0.9924\n",
      "Epoch 5/50\n",
      "687/687 [==============================] - 13s 19ms/step - loss: 0.1218 - accuracy: 0.9580 - val_loss: 0.0020 - val_accuracy: 0.9996\n",
      "Epoch 6/50\n",
      "687/687 [==============================] - 12s 18ms/step - loss: 0.1025 - accuracy: 0.9662 - val_loss: 0.0115 - val_accuracy: 0.9975\n",
      "Epoch 7/50\n",
      "687/687 [==============================] - 13s 19ms/step - loss: 0.0932 - accuracy: 0.9684 - val_loss: 9.6028e-04 - val_accuracy: 1.0000\n",
      "Epoch 8/50\n",
      "687/687 [==============================] - 13s 18ms/step - loss: 0.0894 - accuracy: 0.9707 - val_loss: 0.0012 - val_accuracy: 1.0000\n",
      "Epoch 9/50\n",
      "687/687 [==============================] - 13s 19ms/step - loss: 0.0798 - accuracy: 0.9719 - val_loss: 6.2186e-04 - val_accuracy: 1.0000\n",
      "Epoch 10/50\n",
      "687/687 [==============================] - 12s 18ms/step - loss: 0.0782 - accuracy: 0.9737 - val_loss: 0.0018 - val_accuracy: 1.0000\n",
      "Epoch 11/50\n",
      "687/687 [==============================] - 13s 19ms/step - loss: 0.0736 - accuracy: 0.9752 - val_loss: 0.1697 - val_accuracy: 0.9408\n",
      "Epoch 12/50\n",
      "687/687 [==============================] - 13s 19ms/step - loss: 0.0725 - accuracy: 0.9762 - val_loss: 1.1415e-04 - val_accuracy: 1.0000\n",
      "Epoch 13/50\n",
      "687/687 [==============================] - 12s 18ms/step - loss: 0.0672 - accuracy: 0.9781 - val_loss: 0.1116 - val_accuracy: 0.9667\n",
      "Epoch 14/50\n",
      "687/687 [==============================] - 13s 19ms/step - loss: 0.0593 - accuracy: 0.9803 - val_loss: 9.9199e-04 - val_accuracy: 0.9998\n",
      "Epoch 15/50\n",
      "687/687 [==============================] - 13s 19ms/step - loss: 0.0596 - accuracy: 0.9809 - val_loss: 0.0039 - val_accuracy: 0.9993\n",
      "Epoch 16/50\n",
      "687/687 [==============================] - 13s 19ms/step - loss: 0.0521 - accuracy: 0.9812 - val_loss: 0.0080 - val_accuracy: 0.9978\n",
      "Epoch 17/50\n",
      "687/687 [==============================] - 13s 18ms/step - loss: 0.0574 - accuracy: 0.9807 - val_loss: 0.3028 - val_accuracy: 0.9020\n",
      "WARNING:tensorflow:sample_weight modes were coerced from\n",
      "  ...\n",
      "    to  \n",
      "  ['...']\n",
      "225/225 [==============================] - 1s 3ms/step - loss: 0.5596 - accuracy: 0.8537\n"
     ]
    },
    {
     "data": {
      "text/plain": [
       "[0.5595519281672832, 0.85373676]"
      ]
     },
     "execution_count": 12,
     "metadata": {},
     "output_type": "execute_result"
    }
   ],
   "source": [
    "from tensorflow.keras.callbacks import EarlyStopping\n",
    "\n",
    "history = model.fit(\n",
    "    train_generator, \n",
    "    epochs=50,\n",
    "    validation_data=val_generator,\n",
    "    workers=4,\n",
    "    callbacks=[EarlyStopping(patience=5)]\n",
    ")\n",
    "\n",
    "model.evaluate(test_generator)"
   ]
  },
  {
   "cell_type": "code",
   "execution_count": 13,
   "metadata": {},
   "outputs": [
    {
     "data": {
      "image/png": "[encoded data removed]",
      "text/plain": [
       "<Figure size 864x864 with 2 Axes>"
      ]
     },
     "metadata": {
      "needs_background": "light"
     },
     "output_type": "display_data"
    }
   ],
   "source": [
    "fig, (ax1, ax2) = plt.subplots(2, 1, figsize=(12, 12))\n",
    "ax1.plot(history.history['loss'], color='b', label=\"Training loss\")\n",
    "ax1.plot(history.history['val_loss'], color='r', label=\"validation loss\")\n",
    "\n",
    "ax2.plot(history.history['accuracy'], color='b', label=\"Training accuracy\")\n",
    "ax2.plot(history.history['val_accuracy'], color='r',label=\"Validation accuracy\")\n",
    "\n",
    "plt.legend()\n",
    "plt.show()"
   ]
  },
  {
   "cell_type": "markdown",
   "metadata": {},
   "source": [
    "### VGG-16 finetuning"
   ]
  },
  {
   "cell_type": "markdown",
   "metadata": {},
   "source": [
    "Vgg-16 ожидает входные изображения как минимум 32x32x3: повторим входной канал 3 раза и добавим паддинг по краям"
   ]
  },
  {
   "cell_type": "code",
   "execution_count": 14,
   "metadata": {},
   "outputs": [],
   "source": [
    "train_images = np.pad(\n",
    "    np.concatenate([train_images, train_images, train_images], axis=-1),\n",
    "    ((0, 0), (2, 2), (2, 2), (0, 0))\n",
    ")\n",
    "\n",
    "val_images = np.pad(\n",
    "    np.concatenate([val_images, val_images, val_images], axis=-1),\n",
    "    ((0, 0), (2, 2), (2, 2), (0, 0))\n",
    ")\n",
    "\n",
    "test_images = np.pad(\n",
    "    np.concatenate([test_images, test_images, test_images], axis=-1),\n",
    "    ((0, 0), (2, 2), (2, 2), (0, 0))\n",
    ")"
   ]
  },
  {
   "cell_type": "code",
   "execution_count": 15,
   "metadata": {},
   "outputs": [
    {
     "name": "stdout",
     "output_type": "stream",
     "text": [
      "Model: \"model\"\n",
      "_________________________________________________________________\n",
      "Layer (type)                 Output Shape              Param #   \n",
      "=================================================================\n",
      "input_1 (InputLayer)         [(None, 32, 32, 3)]       0         \n",
      "_________________________________________________________________\n",
      "block1_conv1 (Conv2D)        (None, 32, 32, 64)        1792      \n",
      "_________________________________________________________________\n",
      "block1_conv2 (Conv2D)        (None, 32, 32, 64)        36928     \n",
      "_________________________________________________________________\n",
      "block1_pool (MaxPooling2D)   (None, 16, 16, 64)        0         \n",
      "_________________________________________________________________\n",
      "block2_conv1 (Conv2D)        (None, 16, 16, 128)       73856     \n",
      "_________________________________________________________________\n",
      "block2_conv2 (Conv2D)        (None, 16, 16, 128)       147584    \n",
      "_________________________________________________________________\n",
      "block2_pool (MaxPooling2D)   (None, 8, 8, 128)         0         \n",
      "_________________________________________________________________\n",
      "block3_conv1 (Conv2D)        (None, 8, 8, 256)         295168    \n",
      "_________________________________________________________________\n",
      "block3_conv2 (Conv2D)        (None, 8, 8, 256)         590080    \n",
      "_________________________________________________________________\n",
      "block3_conv3 (Conv2D)        (None, 8, 8, 256)         590080    \n",
      "_________________________________________________________________\n",
      "block3_pool (MaxPooling2D)   (None, 4, 4, 256)         0         \n",
      "_________________________________________________________________\n",
      "block4_conv1 (Conv2D)        (None, 4, 4, 512)         1180160   \n",
      "_________________________________________________________________\n",
      "block4_conv2 (Conv2D)        (None, 4, 4, 512)         2359808   \n",
      "_________________________________________________________________\n",
      "block4_conv3 (Conv2D)        (None, 4, 4, 512)         2359808   \n",
      "_________________________________________________________________\n",
      "block4_pool (MaxPooling2D)   (None, 2, 2, 512)         0         \n",
      "_________________________________________________________________\n",
      "block5_conv1 (Conv2D)        (None, 2, 2, 512)         2359808   \n",
      "_________________________________________________________________\n",
      "block5_conv2 (Conv2D)        (None, 2, 2, 512)         2359808   \n",
      "_________________________________________________________________\n",
      "block5_conv3 (Conv2D)        (None, 2, 2, 512)         2359808   \n",
      "_________________________________________________________________\n",
      "block5_pool (MaxPooling2D)   (None, 1, 1, 512)         0         \n",
      "_________________________________________________________________\n",
      "global_average_pooling2d (Gl (None, 512)               0         \n",
      "_________________________________________________________________\n",
      "dense_2 (Dense)              (None, 512)               262656    \n",
      "_________________________________________________________________\n",
      "dropout_4 (Dropout)          (None, 512)               0         \n",
      "_________________________________________________________________\n",
      "dense_3 (Dense)              (None, 24)                12312     \n",
      "=================================================================\n",
      "Total params: 14,989,656\n",
      "Trainable params: 7,354,392\n",
      "Non-trainable params: 7,635,264\n",
      "_________________________________________________________________\n"
     ]
    }
   ],
   "source": [
    "from tensorflow.keras import optimizers\n",
    "from tensorflow.keras.applications import VGG16\n",
    "from tensorflow.keras.models import Model\n",
    "from tensorflow.keras.layers import GlobalAveragePooling2D\n",
    "\n",
    "pre_trained_model = VGG16(input_shape=(32, 32, 3), include_top=False, weights=\"imagenet\")\n",
    "    \n",
    "for layer in pre_trained_model.layers[:15]:\n",
    "    layer.trainable = False\n",
    "\n",
    "for layer in pre_trained_model.layers[15:]:\n",
    "    layer.trainable = True\n",
    "    \n",
    "last_layer = pre_trained_model.get_layer('block5_pool')\n",
    "last_output = last_layer.output\n",
    "    \n",
    "x = GlobalAveragePooling2D()(last_output)\n",
    "x = Dense(512, activation='relu')(x)\n",
    "x = Dropout(0.5)(x)\n",
    "x = Dense(len(np.unique(train_labels)), activation='softmax')(x)\n",
    "\n",
    "model = Model(pre_trained_model.input, x)\n",
    "\n",
    "model.compile(loss='categorical_crossentropy',\n",
    "              optimizer=optimizers.SGD(lr=1e-4, momentum=0.9),\n",
    "              metrics=['accuracy'])\n",
    "\n",
    "model.summary()"
   ]
  },
  {
   "cell_type": "code",
   "execution_count": 16,
   "metadata": {},
   "outputs": [],
   "source": [
    "train_datagen = ImageDataGenerator(\n",
    "    rescale=1/255.,\n",
    "    rotation_range=0.05,\n",
    "    width_shift_range=0.05,\n",
    "    height_shift_range=0.05,\n",
    "    zoom_range=0.03,\n",
    "    horizontal_flip=True\n",
    ")\n",
    "\n",
    "val_datagen=ImageDataGenerator(rescale=1./255.)\n",
    "test_datagen=ImageDataGenerator(rescale=1./255.)\n",
    "\n",
    "train_generator=train_datagen.flow(\n",
    "    train_images,\n",
    "    to_categorical(train_labels),\n",
    "    batch_size=32,\n",
    "    seed=42,\n",
    "    shuffle=True\n",
    ")\n",
    "\n",
    "val_generator=val_datagen.flow(\n",
    "    val_images,\n",
    "    to_categorical(val_labels),\n",
    "    batch_size=32,\n",
    "    shuffle=True\n",
    ")\n",
    "test_generator=test_datagen.flow(\n",
    "    test_images,\n",
    "    to_categorical(test_labels),\n",
    "    batch_size=32,\n",
    "    shuffle=False\n",
    ")"
   ]
  },
  {
   "cell_type": "code",
   "execution_count": 17,
   "metadata": {},
   "outputs": [
    {
     "name": "stdout",
     "output_type": "stream",
     "text": [
      "WARNING:tensorflow:sample_weight modes were coerced from\n",
      "  ...\n",
      "    to  \n",
      "  ['...']\n",
      "WARNING:tensorflow:sample_weight modes were coerced from\n",
      "  ...\n",
      "    to  \n",
      "  ['...']\n",
      "Train for 687 steps, validate for 172 steps\n",
      "Epoch 1/50\n",
      "687/687 [==============================] - 16s 24ms/step - loss: 2.7884 - accuracy: 0.1817 - val_loss: 2.0501 - val_accuracy: 0.4779\n",
      "Epoch 2/50\n",
      "687/687 [==============================] - 15s 22ms/step - loss: 1.8912 - accuracy: 0.3982 - val_loss: 1.3251 - val_accuracy: 0.6066\n",
      "Epoch 3/50\n",
      "687/687 [==============================] - 15s 22ms/step - loss: 1.3840 - accuracy: 0.5377 - val_loss: 0.9856 - val_accuracy: 0.7079\n",
      "Epoch 4/50\n",
      "687/687 [==============================] - 15s 22ms/step - loss: 1.0998 - accuracy: 0.6253 - val_loss: 0.7605 - val_accuracy: 0.7531\n",
      "Epoch 5/50\n",
      "687/687 [==============================] - 15s 22ms/step - loss: 0.8953 - accuracy: 0.6932 - val_loss: 0.6423 - val_accuracy: 0.7897\n",
      "Epoch 6/50\n",
      "687/687 [==============================] - 15s 22ms/step - loss: 0.7655 - accuracy: 0.7370 - val_loss: 0.6266 - val_accuracy: 0.7694\n",
      "Epoch 7/50\n",
      "687/687 [==============================] - 16s 23ms/step - loss: 0.6692 - accuracy: 0.7693 - val_loss: 0.5546 - val_accuracy: 0.8028\n",
      "Epoch 8/50\n",
      "687/687 [==============================] - 15s 21ms/step - loss: 0.5825 - accuracy: 0.7999 - val_loss: 0.4326 - val_accuracy: 0.8516\n",
      "Epoch 9/50\n",
      "687/687 [==============================] - 16s 23ms/step - loss: 0.5264 - accuracy: 0.8197 - val_loss: 0.4683 - val_accuracy: 0.8246\n",
      "Epoch 10/50\n",
      "687/687 [==============================] - 15s 22ms/step - loss: 0.4776 - accuracy: 0.8349 - val_loss: 0.3434 - val_accuracy: 0.8776\n",
      "Epoch 11/50\n",
      "687/687 [==============================] - 15s 22ms/step - loss: 0.4301 - accuracy: 0.8504 - val_loss: 0.3638 - val_accuracy: 0.8700\n",
      "Epoch 12/50\n",
      "687/687 [==============================] - 15s 22ms/step - loss: 0.3885 - accuracy: 0.8668 - val_loss: 0.2830 - val_accuracy: 0.9091\n",
      "Epoch 13/50\n",
      "687/687 [==============================] - 15s 23ms/step - loss: 0.3634 - accuracy: 0.8743 - val_loss: 0.2509 - val_accuracy: 0.9135\n",
      "Epoch 14/50\n",
      "687/687 [==============================] - 15s 22ms/step - loss: 0.3290 - accuracy: 0.8875 - val_loss: 0.2755 - val_accuracy: 0.9007\n",
      "Epoch 15/50\n",
      "687/687 [==============================] - 16s 23ms/step - loss: 0.3050 - accuracy: 0.8986 - val_loss: 0.2104 - val_accuracy: 0.9290\n",
      "Epoch 16/50\n",
      "687/687 [==============================] - 15s 22ms/step - loss: 0.2849 - accuracy: 0.9057 - val_loss: 0.2503 - val_accuracy: 0.9115\n",
      "Epoch 17/50\n",
      "687/687 [==============================] - 15s 22ms/step - loss: 0.2592 - accuracy: 0.9152 - val_loss: 0.1721 - val_accuracy: 0.9455\n",
      "Epoch 18/50\n",
      "687/687 [==============================] - 15s 22ms/step - loss: 0.2478 - accuracy: 0.9172 - val_loss: 0.2034 - val_accuracy: 0.9279\n",
      "Epoch 19/50\n",
      "687/687 [==============================] - 15s 22ms/step - loss: 0.2293 - accuracy: 0.9234 - val_loss: 0.1549 - val_accuracy: 0.9476\n",
      "Epoch 20/50\n",
      "687/687 [==============================] - 15s 22ms/step - loss: 0.2138 - accuracy: 0.9307 - val_loss: 0.1584 - val_accuracy: 0.9479\n",
      "Epoch 21/50\n",
      "687/687 [==============================] - 16s 23ms/step - loss: 0.2000 - accuracy: 0.9321 - val_loss: 0.1188 - val_accuracy: 0.9623\n",
      "Epoch 22/50\n",
      "687/687 [==============================] - 16s 23ms/step - loss: 0.1929 - accuracy: 0.9379 - val_loss: 0.1226 - val_accuracy: 0.9576\n",
      "Epoch 23/50\n",
      "687/687 [==============================] - 16s 23ms/step - loss: 0.1827 - accuracy: 0.9436 - val_loss: 0.1130 - val_accuracy: 0.9605\n",
      "Epoch 24/50\n",
      "687/687 [==============================] - 15s 22ms/step - loss: 0.1679 - accuracy: 0.9461 - val_loss: 0.1329 - val_accuracy: 0.9514\n",
      "Epoch 25/50\n",
      "687/687 [==============================] - 15s 22ms/step - loss: 0.1637 - accuracy: 0.9479 - val_loss: 0.1199 - val_accuracy: 0.9577\n",
      "Epoch 26/50\n",
      "687/687 [==============================] - 15s 22ms/step - loss: 0.1518 - accuracy: 0.9532 - val_loss: 0.0904 - val_accuracy: 0.9689\n",
      "Epoch 27/50\n",
      "687/687 [==============================] - 15s 23ms/step - loss: 0.1435 - accuracy: 0.9553 - val_loss: 0.0746 - val_accuracy: 0.9789\n",
      "Epoch 28/50\n",
      "687/687 [==============================] - 15s 22ms/step - loss: 0.1398 - accuracy: 0.9564 - val_loss: 0.0830 - val_accuracy: 0.9718\n",
      "Epoch 29/50\n",
      "687/687 [==============================] - 15s 22ms/step - loss: 0.1312 - accuracy: 0.9602 - val_loss: 0.0771 - val_accuracy: 0.9743\n",
      "Epoch 30/50\n",
      "687/687 [==============================] - 16s 23ms/step - loss: 0.1258 - accuracy: 0.9620 - val_loss: 0.1193 - val_accuracy: 0.9556\n",
      "Epoch 31/50\n",
      "687/687 [==============================] - 15s 22ms/step - loss: 0.1152 - accuracy: 0.9650 - val_loss: 0.1093 - val_accuracy: 0.9605\n",
      "Epoch 32/50\n",
      "687/687 [==============================] - 15s 22ms/step - loss: 0.1137 - accuracy: 0.9658 - val_loss: 0.0760 - val_accuracy: 0.9749\n",
      "WARNING:tensorflow:sample_weight modes were coerced from\n",
      "  ...\n",
      "    to  \n",
      "  ['...']\n",
      "225/225 [==============================] - 2s 8ms/step - loss: 0.1696 - accuracy: 0.9416\n"
     ]
    },
    {
     "data": {
      "text/plain": [
       "[0.16958833215965166, 0.9415784]"
      ]
     },
     "execution_count": 17,
     "metadata": {},
     "output_type": "execute_result"
    }
   ],
   "source": [
    "from tensorflow.keras.callbacks import EarlyStopping\n",
    "\n",
    "history = model.fit(\n",
    "    train_generator, \n",
    "    epochs=50,\n",
    "    validation_data=val_generator,\n",
    "    workers=4,\n",
    "    callbacks=[EarlyStopping(patience=5)]\n",
    ")\n",
    "\n",
    "model.evaluate(test_generator)"
   ]
  },
  {
   "cell_type": "code",
   "execution_count": 18,
   "metadata": {},
   "outputs": [
    {
     "data": {
      "image/png": "[encoded data removed]",
      "text/plain": [
       "<Figure size 864x864 with 2 Axes>"
      ]
     },
     "metadata": {
      "needs_background": "light"
     },
     "output_type": "display_data"
    }
   ],
   "source": [
    "fig, (ax1, ax2) = plt.subplots(2, 1, figsize=(12, 12))\n",
    "ax1.plot(history.history['loss'], color='b', label=\"Training loss\")\n",
    "ax1.plot(history.history['val_loss'], color='r', label=\"validation loss\")\n",
    "\n",
    "ax2.plot(history.history['accuracy'], color='b', label=\"Training accuracy\")\n",
    "ax2.plot(history.history['val_accuracy'], color='r',label=\"Validation accuracy\")\n",
    "\n",
    "plt.legend()\n",
    "plt.show()"
   ]
  }
 ],
 "metadata": {
  "kernelspec": {
   "display_name": "Python 3",
   "language": "python",
   "name": "python3"
  },
  "language_info": {
   "codemirror_mode": {
    "name": "ipython",
    "version": 3
   },
   "file_extension": ".py",
   "mimetype": "text/x-python",
   "name": "python",
   "nbconvert_exporter": "python",
   "pygments_lexer": "ipython3",
   "version": "3.7.6"
  }
 },
 "nbformat": 4,
 "nbformat_minor": 2
}
