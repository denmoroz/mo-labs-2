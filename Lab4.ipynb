{
 "cells": [
  {
   "cell_type": "markdown",
   "metadata": {},
   "source": [
    "### Лабораторная работа №4. Реализация приложения по распознаванию номеров домов.\n",
    "\n",
    "Данные: Набор изображений из Google Street View с изображениями номеров домов, содержащий 10 классов, соответствующих цифрам от 0 до 9.\n",
    "\n",
    "73257 изображений цифр в обучающей выборке;  \n",
    "26032 изображения цифр в тестовой выборке;  \n",
    "531131 изображения, которые можно использовать как дополнение к обучающей выборке;  \n",
    "\n",
    "В двух форматах:\n",
    "1. Оригинальные изображения с выделенными цифрами;\n",
    "2. Изображения размером 32 × 32, содержащих одну цифру;\n",
    "\n",
    "Данные первого формата можно скачать по ссылкам:\n",
    "1. http://ufldl.stanford.edu/housenumbers/train.tar.gz (обучающая выборка);\n",
    "2. http://ufldl.stanford.edu/housenumbers/test.tar.gz (тестовая выборка);\n",
    "3. http://ufldl.stanford.edu/housenumbers/extra.tar.gz (дополнительные данные);\n",
    "\n",
    "Данные второго формата можно скачать по ссылкам:\n",
    "1. http://ufldl.stanford.edu/housenumbers/train_32x32.mat (обучающая выборка);\n",
    "2. http://ufldl.stanford.edu/housenumbers/test_32x32.mat (тестовая выборка);\n",
    "3. http://ufldl.stanford.edu/housenumbers/extra_32x32.mat (дополнительные данные);\n",
    "\n",
    "Описание данных на английском языке доступно по ссылке: http://ufldl.stanford.edu/housenumbers/\n",
    "\n",
    "Задание 1.\n",
    "Реализуйте глубокую нейронную сеть (полносвязную или сверточную) и обучите ее на синтетических данных (например, наборы MNIST (http://yann.lecun.com/exdb/mnist/) или notMNIST). Ознакомьтесь с имеющимися работами по данной тематике: англоязычная статья (http://static.googleusercontent.com/media/research.google.com/en//pubs/archive/42241.pdf), видео на YouTube (https://www.youtube.com/watch?v=vGPI_JvLoN0).\n",
    "\n",
    "Задание 2.\n",
    "После уточнения модели на синтетических данных попробуйте обучить ее на реальных данных (набор Google Street View). Что изменилось в модели?\n",
    "\n",
    "Задание 3.\n",
    "Сделайте множество снимков изображений номеров домов с помощью смартфона на ОС Android. Также можно использовать библиотеки OpenCV, Simple CV или Pygame для обработки изображений с общедоступных камер видеонаблюдения (например, https://www.earthcam.com/).\n",
    "Пример использования библиотеки TensorFlow на смартфоне можете воспользоваться демонстрационным приложением от Google (https://github.com/tensorflow/tensorflow/tree/master/tensorflow/examples/android).\n",
    " \n",
    "\n",
    "Задание 4.\n",
    "Реализуйте приложение для ОС Android, которое может распознавать цифры в номерах домов, используя разработанный ранее классификатор. Какова доля правильных классификаций?\n",
    "\n",
    "Результат выполнения заданий опишите в отчете.\n"
   ]
  },
  {
   "cell_type": "code",
   "execution_count": 4,
   "metadata": {},
   "outputs": [
    {
     "name": "stdout",
     "output_type": "stream",
     "text": [
      "--2020-04-09 22:16:15--  http://ufldl.stanford.edu/housenumbers/train_32x32.mat\n",
      "Resolving ufldl.stanford.edu (ufldl.stanford.edu)... 171.64.68.10\n",
      "Connecting to ufldl.stanford.edu (ufldl.stanford.edu)|171.64.68.10|:80... connected.\n",
      "HTTP request sent, awaiting response... 200 OK\n",
      "Length: 182040794 (174M) [text/plain]\n",
      "Saving to: ‘train_32x32.mat.1’\n",
      "\n",
      "train_32x32.mat.1   100%[===================>] 173.61M  1.36MB/s    in 1m 44s  \n",
      "\n",
      "2020-04-09 22:18:00 (1.67 MB/s) - ‘train_32x32.mat.1’ saved [182040794/182040794]\n",
      "\n",
      "--2020-04-09 22:18:00--  http://storage/housenumbers/train_32x32.mat\n",
      "Resolving storage (storage)... failed: No address associated with hostname.\n",
      "wget: unable to resolve host address ‘storage’\n",
      "FINISHED --2020-04-09 22:18:00--\n",
      "Total wall clock time: 1m 45s\n",
      "Downloaded: 1 files, 174M in 1m 44s (1.67 MB/s)\n",
      "--2020-04-09 22:18:00--  http://ufldl.stanford.edu/housenumbers/test_32x32.mat\n",
      "Resolving ufldl.stanford.edu (ufldl.stanford.edu)... 171.64.68.10\n",
      "Connecting to ufldl.stanford.edu (ufldl.stanford.edu)|171.64.68.10|:80... connected.\n",
      "HTTP request sent, awaiting response... 200 OK\n",
      "Length: 64275384 (61M) [text/plain]\n",
      "Saving to: ‘test_32x32.mat’\n",
      "\n",
      "test_32x32.mat      100%[===================>]  61.30M  1.48MB/s    in 39s     \n",
      "\n",
      "2020-04-09 22:18:40 (1.56 MB/s) - ‘test_32x32.mat’ saved [64275384/64275384]\n",
      "\n",
      "--2020-04-09 22:18:40--  http://storage/housenumbers/test_32x32.mat\n",
      "Resolving storage (storage)... failed: No address associated with hostname.\n",
      "wget: unable to resolve host address ‘storage’\n",
      "FINISHED --2020-04-09 22:18:40--\n",
      "Total wall clock time: 40s\n",
      "Downloaded: 1 files, 61M in 39s (1.56 MB/s)\n",
      "--2020-04-09 22:18:40--  http://ufldl.stanford.edu/housenumbers/extra_32x32.mat\n",
      "Resolving ufldl.stanford.edu (ufldl.stanford.edu)... 171.64.68.10\n",
      "Connecting to ufldl.stanford.edu (ufldl.stanford.edu)|171.64.68.10|:80... connected.\n",
      "HTTP request sent, awaiting response... 200 OK\n",
      "Length: 1329278602 (1.2G) [text/plain]\n",
      "Saving to: ‘extra_32x32.mat’\n",
      "\n",
      "extra_32x32.mat     100%[===================>]   1.24G  1.89MB/s    in 14m 52s \n",
      "\n",
      "2020-04-09 22:33:32 (1.42 MB/s) - ‘extra_32x32.mat’ saved [1329278602/1329278602]\n",
      "\n",
      "--2020-04-09 22:33:32--  http://storage/housenumbers/extra_32x32.mat\n",
      "Resolving storage (storage)... failed: No address associated with hostname.\n",
      "wget: unable to resolve host address ‘storage’\n",
      "FINISHED --2020-04-09 22:33:32--\n",
      "Total wall clock time: 14m 52s\n",
      "Downloaded: 1 files, 1.2G in 14m 52s (1.42 MB/s)\n"
     ]
    }
   ],
   "source": [
    "!mkdir -p storage/housenumbers\n",
    "\n",
    "!wget http://ufldl.stanford.edu/housenumbers/train_32x32.mat\n",
    "!wget http://ufldl.stanford.edu/housenumbers/test_32x32.mat\n",
    "!wget http://ufldl.stanford.edu/housenumbers/extra_32x32.mat"
   ]
  },
  {
   "cell_type": "code",
   "execution_count": 60,
   "metadata": {},
   "outputs": [],
   "source": [
    "import numpy as np\n",
    "import pandas as pd\n",
    "import tensorflow as tf\n",
    "\n",
    "\n",
    "import matplotlib.pyplot as plt\n",
    "%matplotlib inline"
   ]
  },
  {
   "cell_type": "markdown",
   "metadata": {},
   "source": [
    "MNIST pretrain"
   ]
  },
  {
   "cell_type": "code",
   "execution_count": 61,
   "metadata": {},
   "outputs": [],
   "source": [
    "from tensorflow.keras.datasets import mnist\n",
    "\n",
    "(X_train, y_train), (X_test, y_test) = mnist.load_data()\n",
    "\n",
    "X_train = np.expand_dims(X_train, axis=-1)\n",
    "X_test = np.expand_dims(X_test, axis=-1)"
   ]
  },
  {
   "cell_type": "code",
   "execution_count": 62,
   "metadata": {},
   "outputs": [
    {
     "data": {
      "text/plain": [
       "<matplotlib.image.AxesImage at 0x7ff768ea5690>"
      ]
     },
     "execution_count": 62,
     "metadata": {},
     "output_type": "execute_result"
    },
    {
     "data": {
      "image/png": "[encoded data removed]",
      "text/plain": [
       "<Figure size 432x288 with 1 Axes>"
      ]
     },
     "metadata": {
      "needs_background": "light"
     },
     "output_type": "display_data"
    }
   ],
   "source": [
    "plt.title(y_train[0])\n",
    "plt.imshow(X_train[0, :, :, 0])"
   ]
  },
  {
   "cell_type": "code",
   "execution_count": 63,
   "metadata": {},
   "outputs": [
    {
     "data": {
      "text/plain": [
       "((60000, 28, 28, 1), (60000,))"
      ]
     },
     "execution_count": 63,
     "metadata": {},
     "output_type": "execute_result"
    }
   ],
   "source": [
    "X_train.shape, y_train.shape"
   ]
  },
  {
   "cell_type": "code",
   "execution_count": 64,
   "metadata": {},
   "outputs": [],
   "source": [
    "from tensorflow.keras.models import Sequential\n",
    "from tensorflow.keras.layers import Conv2D, Activation, MaxPooling2D, Flatten, Dense, Activation\n",
    "\n",
    "def build_model(image_shape, num_classes=10):\n",
    "    model = Sequential()\n",
    "    model.add(Conv2D(32, (3, 3), padding='same', input_shape=image_shape))\n",
    "    model.add(Activation('relu'))\n",
    "    model.add(Conv2D(32, (3, 3)))\n",
    "    model.add(Activation('relu'))\n",
    "    model.add(MaxPooling2D(pool_size=(2, 2)))\n",
    "\n",
    "    model.add(Conv2D(64, (3, 3), padding='same'))\n",
    "    model.add(Activation('relu'))\n",
    "    model.add(Conv2D(64, (3, 3)))\n",
    "    model.add(Activation('relu'))\n",
    "    model.add(MaxPooling2D(pool_size=(2, 2)))\n",
    "\n",
    "    model.add(Flatten())\n",
    "    model.add(Dense(512))\n",
    "    model.add(Activation('relu'))\n",
    "    model.add(Dense(num_classes))\n",
    "    model.add(Activation('softmax'))\n",
    "    \n",
    "    return model"
   ]
  },
  {
   "cell_type": "code",
   "execution_count": 65,
   "metadata": {},
   "outputs": [],
   "source": [
    "model = build_model(X_train.shape[1:], num_classes=len(np.unique(y_train)))"
   ]
  },
  {
   "cell_type": "code",
   "execution_count": 66,
   "metadata": {},
   "outputs": [
    {
     "name": "stdout",
     "output_type": "stream",
     "text": [
      "Train on 60000 samples, validate on 10000 samples\n",
      "Epoch 1/10\n",
      "60000/60000 [==============================] - 4s 59us/sample - loss: 0.4075 - accuracy: 0.9444 - val_loss: 0.0466 - val_accuracy: 0.9853\n",
      "Epoch 2/10\n",
      "60000/60000 [==============================] - 3s 51us/sample - loss: 0.0430 - accuracy: 0.9866 - val_loss: 0.0419 - val_accuracy: 0.9863\n",
      "Epoch 3/10\n",
      "60000/60000 [==============================] - 3s 51us/sample - loss: 0.0286 - accuracy: 0.9910 - val_loss: 0.0352 - val_accuracy: 0.9896\n",
      "Epoch 4/10\n",
      "60000/60000 [==============================] - 3s 51us/sample - loss: 0.0245 - accuracy: 0.9923 - val_loss: 0.0368 - val_accuracy: 0.9895\n",
      "Epoch 5/10\n",
      "60000/60000 [==============================] - 3s 50us/sample - loss: 0.0198 - accuracy: 0.9938 - val_loss: 0.0328 - val_accuracy: 0.9901\n",
      "Epoch 6/10\n",
      "60000/60000 [==============================] - 3s 50us/sample - loss: 0.0173 - accuracy: 0.9944 - val_loss: 0.0389 - val_accuracy: 0.9897\n",
      "Epoch 7/10\n",
      "60000/60000 [==============================] - 3s 51us/sample - loss: 0.0141 - accuracy: 0.9957 - val_loss: 0.0412 - val_accuracy: 0.9896\n",
      "Epoch 8/10\n",
      "60000/60000 [==============================] - 3s 51us/sample - loss: 0.0145 - accuracy: 0.9954 - val_loss: 0.0322 - val_accuracy: 0.9902\n",
      "Epoch 9/10\n",
      "60000/60000 [==============================] - 3s 50us/sample - loss: 0.0140 - accuracy: 0.9953 - val_loss: 0.0410 - val_accuracy: 0.9903\n",
      "Epoch 10/10\n",
      "60000/60000 [==============================] - 3s 49us/sample - loss: 0.0114 - accuracy: 0.9966 - val_loss: 0.0423 - val_accuracy: 0.9898\n"
     ]
    },
    {
     "data": {
      "text/plain": [
       "<tensorflow.python.keras.callbacks.History at 0x7ff768d50ed0>"
      ]
     },
     "execution_count": 66,
     "metadata": {},
     "output_type": "execute_result"
    }
   ],
   "source": [
    "model.compile(optimizer='adam', loss='sparse_categorical_crossentropy', metrics=['accuracy'])\n",
    "model.fit(X_train, y_train, validation_data=(X_test, y_test), batch_size=128, epochs=10)"
   ]
  },
  {
   "cell_type": "markdown",
   "metadata": {},
   "source": [
    "Housenumbers"
   ]
  },
  {
   "cell_type": "code",
   "execution_count": 82,
   "metadata": {},
   "outputs": [],
   "source": [
    "import scipy.io\n",
    "\n",
    "train = scipy.io.loadmat(\"train_32x32.mat\")\n",
    "X_train, y_train = train[\"X\"], train[\"y\"]\n",
    "\n",
    "X_train = np.moveaxis(X_train, -1, 0)\n",
    "y_train = y_train.flatten() - 1\n",
    "\n",
    "test = scipy.io.loadmat(\"test_32x32.mat\")\n",
    "X_test, y_test = test[\"X\"], test[\"y\"]\n",
    "\n",
    "X_test = np.moveaxis(X_test, -1, 0)\n",
    "y_test = y_test.flatten() - 1"
   ]
  },
  {
   "cell_type": "code",
   "execution_count": 83,
   "metadata": {},
   "outputs": [
    {
     "data": {
      "text/plain": [
       "((73257, 32, 32, 3), (73257,))"
      ]
     },
     "execution_count": 83,
     "metadata": {},
     "output_type": "execute_result"
    }
   ],
   "source": [
    "X_train.shape, y_train.shape"
   ]
  },
  {
   "cell_type": "code",
   "execution_count": 84,
   "metadata": {},
   "outputs": [
    {
     "data": {
      "text/plain": [
       "<matplotlib.image.AxesImage at 0x7ff7005d9e50>"
      ]
     },
     "execution_count": 84,
     "metadata": {},
     "output_type": "execute_result"
    },
    {
     "data": {
      "image/png": "[encoded data removed]",
      "text/plain": [
       "<Figure size 432x288 with 1 Axes>"
      ]
     },
     "metadata": {
      "needs_background": "light"
     },
     "output_type": "display_data"
    }
   ],
   "source": [
    "plt.title(y_train[0])\n",
    "plt.imshow(X_train[0])"
   ]
  },
  {
   "cell_type": "code",
   "execution_count": 95,
   "metadata": {},
   "outputs": [],
   "source": [
    "model = build_model(X_train.shape[1:], num_classes=len(np.unique(y_train)))"
   ]
  },
  {
   "cell_type": "code",
   "execution_count": 96,
   "metadata": {},
   "outputs": [
    {
     "name": "stdout",
     "output_type": "stream",
     "text": [
      "Train on 73257 samples, validate on 26032 samples\n",
      "Epoch 1/5\n",
      "73257/73257 [==============================] - 5s 68us/sample - loss: 1.2338 - accuracy: 0.6619 - val_loss: 0.7399 - val_accuracy: 0.7848\n",
      "Epoch 2/5\n",
      "73257/73257 [==============================] - 4s 61us/sample - loss: 0.5033 - accuracy: 0.8527 - val_loss: 0.4854 - val_accuracy: 0.8654\n",
      "Epoch 3/5\n",
      "73257/73257 [==============================] - 5s 63us/sample - loss: 0.3635 - accuracy: 0.8936 - val_loss: 0.4358 - val_accuracy: 0.8811\n",
      "Epoch 4/5\n",
      "73257/73257 [==============================] - 5s 62us/sample - loss: 0.2862 - accuracy: 0.9165 - val_loss: 0.4211 - val_accuracy: 0.8885\n",
      "Epoch 5/5\n",
      "73257/73257 [==============================] - 5s 62us/sample - loss: 0.2328 - accuracy: 0.9306 - val_loss: 0.4404 - val_accuracy: 0.8931\n"
     ]
    },
    {
     "data": {
      "text/plain": [
       "<tensorflow.python.keras.callbacks.History at 0x7ff78b403090>"
      ]
     },
     "execution_count": 96,
     "metadata": {},
     "output_type": "execute_result"
    }
   ],
   "source": [
    "model.compile(optimizer='adam', loss='sparse_categorical_crossentropy', metrics=['accuracy'])\n",
    "model.fit(X_train, y_train, validation_data=(X_test, y_test), batch_size=128, epochs=5)"
   ]
  },
  {
   "cell_type": "code",
   "execution_count": 110,
   "metadata": {},
   "outputs": [],
   "source": [
    "test_predicted = np.argmax(model.predict(X_test), axis=1)"
   ]
  },
  {
   "cell_type": "code",
   "execution_count": 114,
   "metadata": {},
   "outputs": [
    {
     "data": {
      "text/plain": [
       "<matplotlib.image.AxesImage at 0x7ff7401c6210>"
      ]
     },
     "execution_count": 114,
     "metadata": {},
     "output_type": "execute_result"
    },
    {
     "data": {
      "image/png": "[encoded data removed]",
      "text/plain": [
       "<Figure size 432x288 with 1 Axes>"
      ]
     },
     "metadata": {
      "needs_background": "light"
     },
     "output_type": "display_data"
    }
   ],
   "source": [
    "idx = 0\n",
    "plt.title(f\"Predicted: {test_predicted[idx] + 1}, Real: {y_test[idx] + 1}\")\n",
    "plt.imshow(X_test[idx])"
   ]
  }
 ],
 "metadata": {
  "kernelspec": {
   "display_name": "Python 3",
   "language": "python",
   "name": "python3"
  },
  "language_info": {
   "codemirror_mode": {
    "name": "ipython",
    "version": 3
   },
   "file_extension": ".py",
   "mimetype": "text/x-python",
   "name": "python",
   "nbconvert_exporter": "python",
   "pygments_lexer": "ipython3",
   "version": "3.7.6"
  }
 },
 "nbformat": 4,
 "nbformat_minor": 2
}
