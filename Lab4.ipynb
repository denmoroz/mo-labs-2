{
 "cells": [
  {
   "cell_type": "markdown",
   "metadata": {},
   "source": [
    "### Лабораторная работа №4. Реализация приложения по распознаванию номеров домов.\n",
    "\n",
    "Данные: Набор изображений из Google Street View с изображениями номеров домов, содержащий 10 классов, соответствующих цифрам от 0 до 9.\n",
    "\n",
    "73257 изображений цифр в обучающей выборке;  \n",
    "26032 изображения цифр в тестовой выборке;  \n",
    "531131 изображения, которые можно использовать как дополнение к обучающей выборке;  \n",
    "\n",
    "В двух форматах:\n",
    "1. Оригинальные изображения с выделенными цифрами;\n",
    "2. Изображения размером 32 × 32, содержащих одну цифру;\n",
    "\n",
    "Данные первого формата можно скачать по ссылкам:\n",
    "1. http://ufldl.stanford.edu/housenumbers/train.tar.gz (обучающая выборка);\n",
    "2. http://ufldl.stanford.edu/housenumbers/test.tar.gz (тестовая выборка);\n",
    "3. http://ufldl.stanford.edu/housenumbers/extra.tar.gz (дополнительные данные);\n",
    "\n",
    "Данные второго формата можно скачать по ссылкам:\n",
    "1. http://ufldl.stanford.edu/housenumbers/train_32x32.mat (обучающая выборка);\n",
    "2. http://ufldl.stanford.edu/housenumbers/test_32x32.mat (тестовая выборка);\n",
    "3. http://ufldl.stanford.edu/housenumbers/extra_32x32.mat (дополнительные данные);\n",
    "\n",
    "Описание данных на английском языке доступно по ссылке: http://ufldl.stanford.edu/housenumbers/\n",
    "\n",
    "Задание 1.\n",
    "Реализуйте глубокую нейронную сеть (полносвязную или сверточную) и обучите ее на синтетических данных (например, наборы MNIST (http://yann.lecun.com/exdb/mnist/) или notMNIST). Ознакомьтесь с имеющимися работами по данной тематике: англоязычная статья (http://static.googleusercontent.com/media/research.google.com/en//pubs/archive/42241.pdf), видео на YouTube (https://www.youtube.com/watch?v=vGPI_JvLoN0).\n",
    "\n",
    "Задание 2.\n",
    "После уточнения модели на синтетических данных попробуйте обучить ее на реальных данных (набор Google Street View). Что изменилось в модели?\n",
    "\n",
    "Задание 3.\n",
    "Сделайте множество снимков изображений номеров домов с помощью смартфона на ОС Android. Также можно использовать библиотеки OpenCV, Simple CV или Pygame для обработки изображений с общедоступных камер видеонаблюдения (например, https://www.earthcam.com/).\n",
    "Пример использования библиотеки TensorFlow на смартфоне можете воспользоваться демонстрационным приложением от Google (https://github.com/tensorflow/tensorflow/tree/master/tensorflow/examples/android).\n",
    " \n",
    "\n",
    "Задание 4.\n",
    "Реализуйте приложение для ОС Android, которое может распознавать цифры в номерах домов, используя разработанный ранее классификатор. Какова доля правильных классификаций?\n",
    "\n",
    "Результат выполнения заданий опишите в отчете.\n"
   ]
  }
 ],
 "metadata": {
  "kernelspec": {
   "display_name": "Python 3",
   "language": "python",
   "name": "python3"
  },
  "language_info": {
   "codemirror_mode": {
    "name": "ipython",
    "version": 3
   },
   "file_extension": ".py",
   "mimetype": "text/x-python",
   "name": "python",
   "nbconvert_exporter": "python",
   "pygments_lexer": "ipython3",
   "version": "3.6.3"
  }
 },
 "nbformat": 4,
 "nbformat_minor": 2
}
